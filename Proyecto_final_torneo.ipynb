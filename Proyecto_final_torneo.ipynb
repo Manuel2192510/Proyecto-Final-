{
 "cells": [
  {
   "cell_type": "markdown",
   "metadata": {},
   "source": [
    "# Proyecto: AFD que sigue el progreso de un equipo en un torneo de fútbol\n",
    "\n",
    "**Autómatas y Lenguajes Formales**\n",
    "\n",
    "**Integrantes:** Dilan Alessandro Corredor Diaz, Manuel Alejandro De Angel, Darwin Tarazona\n",
    "\n",
    "**Profesor:** Luis Carlos Guayacán Chaparro\n",
    "\n",
    "**Escuela de Ingeniería de Sistemas e Informática** \n",
    "\n",
    "_18 de Marzo del 2022_"
   ]
  },
  {
   "cell_type": "markdown",
   "metadata": {},
   "source": [
    "# Definicion formal del automata:"
   ]
  },
  {
   "cell_type": "markdown",
   "metadata": {},
   "source": [
    "**Sea A un automata definido:**\n",
    "\n",
    "**A=** ( Q, Σ, δ, q0, F)\n",
    "\n",
    "**Conjunto de estados:**\n",
    "\n",
    "**Q=** { q0, q1, q2, q3, q4, q5, q6, q7, q8, q9, q10, q11, q12, q13, q14, q15, q16, q17, q18, q19, q20}\n",
    "\n",
    "\n",
    "**Alfabeto del automatas:**\n",
    "\n",
    "**Σ:** { g, e, p}\n",
    "\n",
    "**Estados finales:**\n",
    "\n",
    "**F:** {q9, q11, q13, q16, q17, q19, q20}\n",
    "\n",
    "**Transiciones:**\n",
    "\n",
    "δ(q0,g)=q1\n",
    "\n",
    "δ(q0,e)=q2\n",
    "\n",
    "δ(q0,p)=q3\n",
    "\n",
    "δ(q1,g)=q4\n",
    "\n",
    "δ(q1,e)=q5\n",
    "\n",
    "δ(q1,p)=q6\n",
    "\n",
    "δ(q2,g)=q5\n",
    "\n",
    "δ(q2,e)=q8\n",
    "\n",
    "δ(q2,p)=q9\n",
    "\n",
    "δ(q3,g)=q7\n",
    "\n",
    "δ(q3,e)=q9\n",
    "\n",
    "δ(q3,p)=q9\n",
    "\n",
    "δ(q4,g)=q10\n",
    "\n",
    "δ(q4,e)=q10\n",
    "\n",
    "δ(q4,p)=q10\n",
    "\n",
    "δ(q5,g)=q10\n",
    "\n",
    "δ(q5,e)=q10\n",
    "\n",
    "δ(q5,p)=q9\n",
    "\n",
    "δ(q6,g)=q10\n",
    "\n",
    "δ(q6,e)=q9\n",
    "\n",
    "δ(q6,p)=q9\n",
    "\n",
    "δ(q7,g)=q10\n",
    "\n",
    "δ(q7,e)=q9\n",
    "\n",
    "δ(q7,p)=q9\n",
    "\n",
    "δ(q8,g)=q10\n",
    "\n",
    "δ(q8,e)=q9\n",
    "\n",
    "δ(q8,p)=q9\n",
    "\n",
    "δ(q10,g)=q12\n",
    "\n",
    "δ(q10,p)=q11\n",
    "\n",
    "δ(q12,g)=q14\n",
    "\n",
    "δ(q12,p)=q13\n",
    "\n",
    "δ(q14,g)=q15\n",
    "\n",
    "δ(q14,p)=q18\n",
    "\n",
    "δ(q15,g)=q16\n",
    "\n",
    "δ(q15,p)=q17\n",
    "\n",
    "δ(q18,g)=q19\n",
    "\n",
    "δ(q18,p)=q20"
   ]
  },
  {
   "cell_type": "markdown",
   "metadata": {},
   "source": [
    "**Diagrama de transiciones:**"
   ]
  },
  {
   "cell_type": "markdown",
   "metadata": {},
   "source": [
    "<img src=\"files/diagrama_proyecto.jpg\" width=\"600\" />"
   ]
  },
  {
   "cell_type": "markdown",
   "metadata": {},
   "source": [
    "# Programacion del automata:"
   ]
  },
  {
   "cell_type": "code",
   "execution_count": 6,
   "metadata": {
    "collapsed": false
   },
   "outputs": [],
   "source": [
    "from automatalib.fa.dfa import DFA  \n",
    "dfa1 = DFA(\n",
    "    states={'q0', 'q1', 'q2', 'q3', 'q4','q5', 'q6', 'q7', 'q8', 'q9','q10', 'q11', 'q12', 'q13', 'q14','q15', 'q16', 'q17',\n",
    "            'q18', 'q19', 'q20'},\n",
    "    input_symbols={'g', 'e','p'},\n",
    "    transitions={\n",
    "        'q0': {'g': 'q1', 'e': 'q2', 'p': 'q3'},\n",
    "        'q1': {'g': 'q4', 'e': 'q5', 'p': 'q6'},\n",
    "        'q2': {'g': 'q5', 'e': 'q8', 'p': 'q9'},\n",
    "        'q3': {'g': 'q7', 'e': 'q9', 'p': 'q9'},\n",
    "        'q4': {'g': 'q10', 'e': 'q10', 'p': 'q10'},\n",
    "        'q5': {'g': 'q10', 'e': 'q10', 'p': 'q9'},\n",
    "        'q6': {'g': 'q10', 'e': 'q9', 'p': 'q9'},\n",
    "        'q7': {'g': 'q10', 'e': 'q9', 'p': 'q9'},\n",
    "        'q8': {'g': 'q10', 'e': 'q9', 'p': 'q9'},\n",
    "        'q9': {},\n",
    "        'q10': {'g': 'q12', 'p': 'q11'},\n",
    "        'q11': {},\n",
    "        'q12': {'g': 'q14', 'p': 'q13'},\n",
    "        'q13': {},\n",
    "        'q14': {'g': 'q15', 'p': 'q18'},\n",
    "        'q15': {'g': 'q16', 'p': 'q17'},\n",
    "        'q16': {},\n",
    "        'q17': {},\n",
    "        'q18': {'g': 'q19', 'p': 'q20'},\n",
    "        'q19': {},\n",
    "        'q20': {}\n",
    "    },\n",
    "    initial_state='q0',\n",
    "    final_states={'q9', 'q11', 'q13', 'q16', 'q17', 'q19','q20'}\n",
    "    )"
   ]
  },
  {
   "cell_type": "markdown",
   "metadata": {},
   "source": [
    "#### Evalue su palabra y verifique hasta que fase llega su equipo:\n",
    "\n",
    "**truco:** Prueba la palabra 'ggggggg'"
   ]
  },
  {
   "cell_type": "code",
   "execution_count": 7,
   "metadata": {
    "collapsed": false
   },
   "outputs": [
    {
     "name": "stdout",
     "output_type": "stream",
     "text": [
      "Introduce la palabra:pp\n",
      "El equipo fue eliminado en fase de grupos.\n",
      "Tu equipo es el Barcelona FC.\n",
      "q9\n"
     ]
    }
   ],
   "source": [
    "val = input(\"Introduce la palabra:\")\n",
    "if((dfa1.validate_input(val))==\"q9\"):\n",
    "    print('El equipo fue eliminado en fase de grupos.')\n",
    "    print('Tu equipo es el Barcelona FC.')\n",
    "if((dfa1.validate_input(val))==\"q11\"):\n",
    "    print('El equipo fue eliminado en octavos de final.')\n",
    "    print('Felicidades, quedaste entre los mejores 16.')\n",
    "if((dfa1.validate_input(val))==\"q13\"):\n",
    "    print('El equipo fue eliminado en cuartos de final.')\n",
    "    print('Felicidades, quedaste entre los mejores 8.')\n",
    "if((dfa1.validate_input(val))==\"q16\"):\n",
    "    print('El equipo quedo campeon del torneo.')\n",
    "    print('Felicidades, fuiste el mejor equipo del torneo.')\n",
    "if((dfa1.validate_input(val))==\"q17\"):\n",
    "    print('El equipo quedo subcampeon del torneo.')\n",
    "    print('Felicidades, fuiste el segundo mejor equipo del torneo.')\n",
    "if((dfa1.validate_input(val))==\"q19\"):\n",
    "    print('El equipo quedo en el tercer puesto del torneo.')\n",
    "    print('Felicidades, fuiste el tercer mejor equipo del torneo.')\n",
    "if((dfa1.validate_input(val))==\"q20\"):\n",
    "    print('El equipo quedo en el cuarto puesto del torneo.')\n",
    "    print('Felicidades, fuiste el tercer mejor equipo del torneo.')\n",
    "\n",
    "print(dfa1.validate_input(val))"
   ]
  },
  {
   "cell_type": "code",
   "execution_count": null,
   "metadata": {
    "collapsed": true
   },
   "outputs": [],
   "source": []
  }
 ],
 "metadata": {
  "kernelspec": {
   "display_name": "Python 3",
   "language": "python",
   "name": "python3"
  },
  "language_info": {
   "codemirror_mode": {
    "name": "ipython",
    "version": 3
   },
   "file_extension": ".py",
   "mimetype": "text/x-python",
   "name": "python",
   "nbconvert_exporter": "python",
   "pygments_lexer": "ipython3",
   "version": "3.6.2"
  }
 },
 "nbformat": 4,
 "nbformat_minor": 1
}
